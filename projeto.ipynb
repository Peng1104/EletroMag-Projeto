{
 "cells": [
  {
   "cell_type": "markdown",
   "metadata": {},
   "source": [
    "Projeto de Eletromagnetismo e Ondulatoria:\n",
    "\n",
    "Membros:\n",
    "\n",
    "- [André Frugis](https://github.com/andrefrugis): andref9@al.insper.edu.br\n",
    "- [Felipe Frug Mauro](https://github.com/FelipeFrug): felipefm5@al.insper.edu.br\n",
    "- [Joao Otavio Palma](https://github.com/joaoopalma): joaoogp@al.insper.edu.br\n",
    "- [Lucas Hix](https://github.com/Peng1104): lucash@al.insper.edu.br"
   ]
  },
  {
   "cell_type": "code",
   "execution_count": null,
   "metadata": {},
   "outputs": [],
   "source": [
    "# bibliotecas para o Projeto\n",
    "\n",
    "import numpy as np\n",
    "import matplotlib.pyplot as plt\n",
    "\n",
    "from math import sqrt"
   ]
  },
  {
   "cell_type": "markdown",
   "metadata": {},
   "source": []
  },
  {
   "cell_type": "code",
   "execution_count": null,
   "metadata": {},
   "outputs": [],
   "source": [
    "# Constantes medidas\n",
    "\n",
    "# Resistências do circuito (Ohms)\n",
    "resistenciaBobinaPrimaria = 0.5\n",
    "resistenciaBobinaSecundaria = 0.5\n",
    "\n",
    "# Capacitância do circuito (Farads)\n",
    "capacitorPrimario = 100e-6\n",
    "capacitorSecundario = 100e-6\n",
    "\n",
    "# Indutância do circuito (Henrys)\n",
    "indutorPrimario = 25e-3\n",
    "indutorSecundario = 25e-3\n",
    "\n",
    "frequencia = 1000\n"
   ]
  },
  {
   "cell_type": "markdown",
   "metadata": {},
   "source": [
    "Equações do Transformador:\n",
    "\n",
    "Primário:\n",
    "\n",
    "$$ (X_{L_1} + R_1 + X_{C_1}) \\cdot I_1 + X_M = TensãoFonte $$\n",
    "\n",
    "Secundário:\n",
    "\n",
    "$$ (X_{L_2} + R_2 + \\frac{1}{\\frac{1}{R_c}+\\frac{1}{X_{C_2}}}) \\cdot I_2 - X_M = 0 $$\n",
    "\n",
    "Forma matricial:\n",
    "\n",
    "$$ \\begin{bmatrix} X_{L_1} + R_1 + X_{C_1} & -X_M \\\\ -X_M & X_{L_2} + R_2 + \\frac{1}{\\frac{1}{R_c}+\\frac{1}{X_{C_2}}} \\end{bmatrix} \\cdot \\begin{bmatrix} I_1 \\\\ I_2 \\end{bmatrix} = \\begin{bmatrix} TensãoFonte \\\\ 0 \\end{bmatrix} $$"
   ]
  },
  {
   "cell_type": "code",
   "execution_count": 1,
   "metadata": {},
   "outputs": [],
   "source": [
    "def CalcularCorrentesNoTransformador(voltagemFonte : float, carga : float):\n",
    "    return CalcularCorrentesNoTransformadorInterno(voltagemFonte, carga, resistenciaBobinaPrimaria, resistenciaBobinaSecundaria, capacitorPrimario, capacitorSecundario, indutorPrimario, indutorSecundario)\n",
    "\n",
    "def CalcularCorrentesNoTransformadorInterno(Uf : float, Rc : float, R1 : float, R2 : float, C1 : float, C2 : float, L1 : float, L2 : float, w : float) -> tuple[complex, complex]:\n",
    "    XL1 = 1j*w*L1\n",
    "    XL2 = 1j*w*L2\n",
    "    XC1 = 1j/(w*C1)\n",
    "    XC2 = 1j/(w*C2)\n",
    "    XM = 1j*w*sqrt(L1*L2)\n",
    "\n",
    "    Z = np.array([[R1+XL1+XC1, -XM], [-XM, R2+XL2+(Rc*XC2/(Rc+XC2))]])\n",
    "    V = np.array([Uf, 0])\n",
    "\n",
    "    I = np.dot(np.linalg.inv(Z), V)\n",
    "\n",
    "    return I[0], I[1]"
   ]
  }
 ],
 "metadata": {
  "kernelspec": {
   "display_name": "Python 3",
   "language": "python",
   "name": "python3"
  },
  "language_info": {
   "codemirror_mode": {
    "name": "ipython",
    "version": 3
   },
   "file_extension": ".py",
   "mimetype": "text/x-python",
   "name": "python",
   "nbconvert_exporter": "python",
   "pygments_lexer": "ipython3",
   "version": "3.11.4"
  }
 },
 "nbformat": 4,
 "nbformat_minor": 2
}
