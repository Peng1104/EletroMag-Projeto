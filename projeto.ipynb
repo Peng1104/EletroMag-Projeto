{
 "cells": [
  {
   "cell_type": "markdown",
   "metadata": {},
   "source": [
    "Projeto de Eletromagnetismo e Ondulatoria\n",
    "\n",
    "Membros:\n",
    "\n",
    "- [André Frugis](https://github.com/andrefrugis): andref9@al.insper.edu.br\n",
    "- [Felipe Frug Mauro](https://github.com/FelipeFrug): felipefm5@al.insper.edu.br\n",
    "- [João Otavio Palma](https://github.com/joaoopalma): joaoogp@al.insper.edu.br\n",
    "- [Lucas Hix](https://github.com/Peng1104): lucash@al.insper.edu.br"
   ]
  },
  {
   "cell_type": "markdown",
   "metadata": {},
   "source": [
    "O objetivo deste projeto é recarregar uma bateria de um marca passo sem a necessidade de fisicamente ter acesso a bateria. Para isso será ultilizado um carregamento indutivo."
   ]
  },
  {
   "cell_type": "code",
   "execution_count": null,
   "metadata": {
    "metadata": {}
   },
   "outputs": [],
   "source": [
    "# Bibliotecas python ultilizadas no Projeto\n",
    "\n",
    "from math import *\n",
    "from cmath import *\n",
    "\n",
    "import numpy as np\n",
    "import matplotlib.pyplot as plt"
   ]
  },
  {
   "attachments": {},
   "cell_type": "markdown",
   "metadata": {},
   "source": [
    "Valores de referência do marca passo:\n",
    "\n",
    "Valores para o carregamento do Marcapasso:</p>\n",
    "300mA</p>\n",
    "4.1V</p>"
   ]
  },
  {
   "cell_type": "code",
   "execution_count": null,
   "metadata": {
    "metadata": {}
   },
   "outputs": [],
   "source": [
    "# Transformador\n",
    "\n",
    "# Bobina primária\n",
    "resistenciaBobinaPrimaria = 0.34 # Ohms\n",
    "\n",
    "# Bobina secundária\n",
    "resistenciaBobinaSecundaria = 0.34 # Ohms\n",
    "\n",
    "# Fonte\n",
    "fonte = 5 # Volts\n",
    "\n",
    "# Ajuste da fonte (parte 6)\n",
    "fonte = (2/pi) * fonte\n",
    "\n",
    "# Marcapasso\n",
    "carga = 4.1/300e-3 # Volts por Ampere = Ohms\n",
    "\n",
    "print(f\"Resistência equivalente do Marcapasso: {carga:.2f}Ω\")\n",
    "\n",
    "fatorDeAcoplamento = 0.2"
   ]
  },
  {
   "cell_type": "markdown",
   "metadata": {},
   "source": [
    "Equações do Transformador:\n",
    "\n",
    "Primário:\n",
    "\n",
    "$$ (X_{L_1} + R_1 + X_{C_1}) \\cdot I_1 + X_M = TensãoFonte $$\n",
    "\n",
    "Secundário:\n",
    "\n",
    "$$ (X_{L_2} + R_2 + \\frac{1}{\\frac{1}{R_c}+\\frac{1}{X_{C_2}}}) \\cdot I_2 - X_M = 0 $$\n",
    "\n",
    "Forma matricial:\n",
    "\n",
    "$$ \\begin{bmatrix} R_1 + X_{L_1} + X_{C_1} & -X_M \\\\ -X_M & X_{L_2} + R_2 + \\frac{1}{\\frac{1}{R_c}+\\frac{1}{X_{C_2}}} \\end{bmatrix} \\cdot \\begin{bmatrix} I_1 \\\\ I_2 \\end{bmatrix} = \\begin{bmatrix} TensãoFonte \\\\ 0 \\end{bmatrix} $$\n",
    "\n",
    "Forma matricial para resolver para as correntes:\n",
    "\n",
    "$$ \\begin{bmatrix} R_1 + X_{L_1} + X_{C_1} & -X_M \\\\ -X_M & X_{L_2} + R_2 + \\frac{R_c \\cdot X_{C_2}}{R_c + X_{C_2}} \\end{bmatrix}^{-1} \\cdot \\begin{bmatrix} TensãoFonte \\\\ 0 \\end{bmatrix} = \\begin{bmatrix} I_1 \\\\ I_2 \\end{bmatrix} $$"
   ]
  },
  {
   "cell_type": "code",
   "execution_count": null,
   "metadata": {
    "metadata": {}
   },
   "outputs": [],
   "source": [
    "def CalcularCorrentesNoTransformador(Uf : float, Rc : float, R1 : float, R2 : float, C1 : float, C2 : float, L1 : float, L2 : float, w : float, k: float) -> tuple[complex, complex]:\n",
    "    XL1 = 1j*w*L1\n",
    "    XL2 = 1j*w*L2\n",
    "    XC1 = 1/(1j*w*C1)\n",
    "    XC2 = 1/(1j*w*C2)\n",
    "    XM = 1j*w*(k*sqrt(L1*L2))\n",
    "\n",
    "    Z = np.array([[R1+XL1+XC1, -XM], [-XM, XL2+R2+(Rc*XC2/(Rc+XC2))]])\n",
    "    V = np.array([Uf, 0])\n",
    "\n",
    "    I = np.dot(np.linalg.inv(Z), V)\n",
    "\n",
    "    return I[0], I[1]"
   ]
  },
  {
   "cell_type": "code",
   "execution_count": null,
   "metadata": {
    "metadata": {}
   },
   "outputs": [],
   "source": [
    "# Lista de capacitores disponíveis\n",
    "Capacitores = [150e-9, 0.1e-6, 0.47e-6, 1e-6, 4.7e-6]\n",
    "\n",
    "# Lista de frequências para análise\n",
    "Frequencias = np.linspace(1, 100e3, 1000, endpoint=True)\n",
    "\n",
    "vMarcaPasso = []\n",
    "SFonte = []\n",
    "SMarcaPasso = []\n",
    "FatorDeEficiencia = []\n",
    "frequenciaDeRessonancia = {}\n",
    "\n",
    "fig, ax = plt.subplots(layout='constrained',figsize=(10,5))\n",
    "\n",
    "for c in Capacitores:\n",
    "\tvMarcaPasso.append([])\n",
    "\tSFonte.append([])\n",
    "\tSMarcaPasso.append([])\n",
    "\tFatorDeEficiencia.append([])\n",
    "\n",
    "\tfor f in Frequencias:\n",
    "\t\tw = 2*pi*f\n",
    "\t\tL = 1/(w*w*c)\n",
    "\t\t\n",
    "\t\trdc = resistenciaBobinaPrimaria + ((2 * resistenciaBobinaPrimaria) / (100 * 10**3) ) * f\n",
    "\t\t\n",
    "\t\ti1,i2 = CalcularCorrentesNoTransformador(fonte, carga, rdc, rdc, c, c, L, L, w, fatorDeAcoplamento)\n",
    "\t\t\n",
    "\t\tXC2 = 1/(1j*w*c)\n",
    "\n",
    "\t\tr = (carga*XC2)/(carga+XC2)\n",
    "\t\t\n",
    "\t\t# Tensão no marcapasso\n",
    "\t\tvMarcaPasso[-1].append(abs(i2*r))\n",
    "\n",
    "\t\t# Potencias do circuito\n",
    "\t\tSFonte[-1].append((fonte*i1.conjugate()/2).real)\n",
    "\t\tSMarcaPasso[-1].append(((vMarcaPasso[-1][-1]**2/carga)/2).real)\n",
    "\t\tFatorDeEficiencia[-1].append((SMarcaPasso[-1][-1]/SFonte[-1][-1]))\n",
    "\t\n",
    "\tfrequenciaDeRessonancia[c] = Frequencias[vMarcaPasso[-1].index(max(vMarcaPasso[-1]))]\n",
    "\n",
    "\tax.plot(Frequencias, vMarcaPasso[-1], label=f\"C = {c} F\")\n",
    "\n",
    "fig.legend(loc='center right')\n",
    "\n",
    "plt.title(\"Tensão Secundaria x Frequência\")\n",
    "plt.xlabel(\"Frequência (Hz)\")\n",
    "plt.ylabel(\"Tensão Secundária (V)\")\n",
    "plt.show()"
   ]
  },
  {
   "cell_type": "code",
   "execution_count": null,
   "metadata": {
    "metadata": {}
   },
   "outputs": [],
   "source": [
    "fig, ax = plt.subplots(layout='constrained',figsize=(10,5))\n",
    "\n",
    "for i in range(len(Capacitores)):\n",
    "\tax.plot(Frequencias, SFonte[i], label=f\"C = {Capacitores[i]} F\")\n",
    "\n",
    "fig.legend(loc='center right')\n",
    "plt.title(\"Potência Consumida Fonte x Frequência\")\n",
    "plt.xlabel(\"Frequência (Hz)\")\n",
    "plt.ylabel(\"Potência Consumida Fonte (W)\")\n",
    "plt.show()"
   ]
  },
  {
   "cell_type": "code",
   "execution_count": null,
   "metadata": {
    "metadata": {}
   },
   "outputs": [],
   "source": [
    "fig, ax = plt.subplots(layout='constrained',figsize=(10,5))\n",
    "\n",
    "for i in range(len(Capacitores)):\n",
    "\tax.plot(Frequencias, SMarcaPasso[i],label=f\"C = {Capacitores[i]} F\")\n",
    "\n",
    "fig.legend(loc='center right')\n",
    "plt.title(\"Potência Marcapasso x Frequência\")\n",
    "plt.xlabel(\"Frequência (Hz)\")\n",
    "plt.ylabel(\"Potência Marcapasso (W)\")\n",
    "plt.show()"
   ]
  },
  {
   "cell_type": "code",
   "execution_count": null,
   "metadata": {
    "metadata": {}
   },
   "outputs": [],
   "source": [
    "fig, ax = plt.subplots(layout='constrained',figsize=(10,5))\n",
    "\n",
    "for i in range(len(Capacitores)):\n",
    "\tax.plot(Frequencias, FatorDeEficiencia[i],label=f\"C = {Capacitores[i]} F\")\n",
    "\n",
    "fig.legend(loc='center right')\n",
    "\n",
    "plt.title(\"Fator de Eficiência x Frequência\")\n",
    "plt.xlabel(\"Frequência (Hz)\")\n",
    "plt.ylabel(\"Fator de Eficiência\")\n",
    "plt.show()"
   ]
  },
  {
   "cell_type": "markdown",
   "metadata": {},
   "source": [
    "Explicar razão para escolha do capacitor 1e-6 ..."
   ]
  },
  {
   "cell_type": "code",
   "execution_count": null,
   "metadata": {
    "metadata": {}
   },
   "outputs": [],
   "source": [
    "# Valores para o capacitor de 1uF\n",
    "c = 1e-6\n",
    "F = frequenciaDeRessonancia[c]\n",
    "w = 2*pi*F\n",
    "L = 1/(w*w*c)\n",
    "\n",
    "# Indice do capacitor escolhido\n",
    "idx = Capacitores.index(c)\n",
    "\n",
    "# Reatribuição dos valores, para o capacitor escolhido\n",
    "vMarcaPasso = vMarcaPasso[idx]\n",
    "SFonte = SFonte[idx]\n",
    "SMarcaPasso = SMarcaPasso[idx]\n",
    "FatorDeEficiencia = FatorDeEficiencia[idx]\n",
    "\n",
    "# Indice da frequência de ressonância\n",
    "idx = list(Frequencias).index(F)\n",
    "\n",
    "print(f\"A frequência de ressonância para o capacitor de 1uF é {F:.4f} Hz\")"
   ]
  },
  {
   "cell_type": "code",
   "execution_count": null,
   "metadata": {
    "metadata": {}
   },
   "outputs": [],
   "source": [
    "fig, ax = plt.subplots(layout='constrained',figsize=(10,5))\n",
    "\n",
    "ax.plot(Frequencias, vMarcaPasso, label=f\"C = {c} F\", color='red')\n",
    "ax.plot(F, vMarcaPasso[idx], 'ro')\n",
    "\n",
    "plt.axvline(x=F, color='r', linestyle='--')\n",
    "plt.axhline(y=vMarcaPasso[idx], color='r', linestyle='--')\n",
    "\n",
    "fig.legend(loc='center right')\n",
    "\n",
    "plt.title(\"Tensão Secundaria x Frequência\")\n",
    "plt.xlabel(\"Frequência (Hz)\")\n",
    "plt.ylabel(\"Tensão Secundária (V)\")\n",
    "plt.show()\n",
    "\n",
    "print(f\"A indutância para a frequência de ressonância é {L*1000:.3f} mH\")"
   ]
  },
  {
   "cell_type": "code",
   "execution_count": null,
   "metadata": {
    "metadata": {}
   },
   "outputs": [],
   "source": [
    "fig, ax = plt.subplots(layout='constrained',figsize=(10,5))\n",
    "\n",
    "ax.plot(Frequencias, SFonte, label=f\"C = {c} F\", color='red')\n",
    "ax.plot(F, SFonte[idx], 'ro')\n",
    "\n",
    "plt.axvline(x=F, color='r', linestyle='--')\n",
    "plt.axhline(y=SFonte[idx], color='r', linestyle='--')\n",
    "\n",
    "fig.legend(loc='center right')\n",
    "\n",
    "plt.title(\"Potência Consumida Fonte x Frequência\")\n",
    "plt.xlabel(\"Frequência (Hz)\")\n",
    "plt.ylabel(\"Potência Consumida Fonte (W)\")\n",
    "plt.show()\n",
    "\n",
    "print(f\"A potência consumida pela fonte na frequência de ressonância é {SFonte[idx]:.4f} W\")"
   ]
  },
  {
   "cell_type": "code",
   "execution_count": null,
   "metadata": {
    "metadata": {}
   },
   "outputs": [],
   "source": [
    "fig, ax = plt.subplots(layout='constrained',figsize=(10,5))\n",
    "\n",
    "ax.plot(Frequencias, SMarcaPasso, label=f\"C = {c} F\", color='red')\n",
    "ax.plot(F, SMarcaPasso[idx], 'ro')\n",
    "\n",
    "plt.axvline(x=F, color='r', linestyle='--')\n",
    "plt.axhline(y=SMarcaPasso[idx], color='r', linestyle='--')\n",
    "\n",
    "fig.legend(loc='center right')\n",
    "\n",
    "plt.title(\"Potência Marcapasso x Frequência\")\n",
    "plt.xlabel(\"Frequência (Hz)\")\n",
    "plt.ylabel(\"Potência Marcapasso (W)\")\n",
    "plt.show()\n",
    "\n",
    "print(f\"A potência no marcapasso na frequência de ressonância é {SMarcaPasso[idx]:.4f} W\")"
   ]
  },
  {
   "cell_type": "code",
   "execution_count": null,
   "metadata": {
    "metadata": {}
   },
   "outputs": [],
   "source": [
    "fig, ax = plt.subplots(layout='constrained',figsize=(10,5))\n",
    "\n",
    "ax.plot(Frequencias, FatorDeEficiencia, label=f\"C = {c} F\", color='red')\n",
    "ax.plot(F, FatorDeEficiencia[idx], 'ro')\n",
    "\n",
    "plt.axvline(x=F, color='r', linestyle='--')\n",
    "plt.axhline(y=FatorDeEficiencia[idx], color='r', linestyle='--')\n",
    "\n",
    "fig.legend(loc='center right')\n",
    "\n",
    "plt.title(\"Fator de Eficiência x Frequência\")\n",
    "plt.xlabel(\"Frequência (Hz)\")\n",
    "plt.ylabel(\"Fator de Eficiência\")\n",
    "plt.show()\n",
    "\n",
    "print(f\"O fator de eficiência na frequência de ressonância é {FatorDeEficiencia[idx]*100:.2f}%\")"
   ]
  },
  {
   "cell_type": "markdown",
   "metadata": {},
   "source": [
    "<center><img src=\"physika.png\"></center>"
   ]
  },
  {
   "cell_type": "code",
   "execution_count": null,
   "metadata": {
    "metadata": {}
   },
   "outputs": [],
   "source": [
    "# Valores medidos após a construção das bobinas (15316 Hz)\n",
    "\n",
    "# Bobina primária (perna curta)\n",
    "#resistenciaBobinaPrimaria = 651.0e-3   # Ohms\n",
    "#indutanciaBobinaPrimaria = 157.9e-6    # H\n",
    "resistenciaBobinaPrimaria = 1.099       # Ohms\n",
    "indutanciaBobinaPrimaria = 158.9e-6     # H\n",
    "\n",
    "# Bobina secundária (perna longa)\n",
    "#resistenciaBobinaSecundaria = 678.5e-3 # Ohms\n",
    "#indutanciaBobinaSecundaria = 159.2e-6  # H\n",
    "resistenciaBobinaSecundaria = 761.3e-3  # Ohms\n",
    "indutanciaBobinaSecundaria = 159.5e-6   # H\n",
    "\n",
    "F = 1/(2*pi*sqrt(indutanciaBobinaSecundaria*c))\n",
    "w = 2*pi*F\n",
    "\n",
    "print(f\"Freqência de ressonância para as medições: {F.real:.4f} Hz\")"
   ]
  },
  {
   "cell_type": "code",
   "execution_count": null,
   "metadata": {
    "metadata": {}
   },
   "outputs": [],
   "source": [
    "FatoresDeAcoplamento = np.linspace(0, 0.5, 1000, endpoint=True)\n",
    "Cargas = range(6, 21)\n",
    "\n",
    "vMarcaPasso = []\n",
    "SFonte = []\n",
    "SMarcaPasso = []\n",
    "FatorDeEficiencia = []\n",
    "\n",
    "fig, ax = plt.subplots(layout='constrained',figsize=(10,5))\n",
    "\n",
    "rdc1 = resistenciaBobinaPrimaria + ((2 * resistenciaBobinaPrimaria) / (100 * 10**3) ) * F\n",
    "rdc2 = resistenciaBobinaSecundaria + ((2 * resistenciaBobinaSecundaria) / (100 * 10**3) ) * F\n",
    "\n",
    "XC2 = 1/(1j*w*c)\n",
    "\n",
    "for carga in Cargas:\n",
    "\tvMarcaPasso.append([])\n",
    "\tSFonte.append([])\n",
    "\tSMarcaPasso.append([])\n",
    "\tFatorDeEficiencia.append([])\n",
    "\t\n",
    "\tfor k in FatoresDeAcoplamento:\n",
    "\t\ti1,i2 = CalcularCorrentesNoTransformador(fonte, carga, rdc1, rdc2, c, c, indutanciaBobinaPrimaria, indutanciaBobinaSecundaria, w, k)\n",
    "\t\t\n",
    "\t\tr = (carga*XC2)/(carga+XC2)\n",
    "\t\t\n",
    "\t\t# Tensão no marcapasso\n",
    "\t\tvMarcaPasso[-1].append(abs(i2*r))\n",
    "\n",
    "\t\t# Potencias do circuito\n",
    "\t\tSFonte[-1].append((fonte*i1.conjugate()/2).real)\n",
    "\t\tSMarcaPasso[-1].append(((vMarcaPasso[-1][-1]**2/carga)/2).real)\n",
    "\t\tFatorDeEficiencia[-1].append((SMarcaPasso[-1][-1]/SFonte[-1][-1]))\n",
    "\t\n",
    "\tax.plot(FatoresDeAcoplamento, vMarcaPasso[-1], label=f\"Resistência = {carga}Ω\")\n",
    "\n",
    "valoresDePico = {}\n",
    "\n",
    "for idx in range(len(Cargas)):\n",
    "\tmaxValue = max(vMarcaPasso[idx])\n",
    "\tkDePico = FatoresDeAcoplamento[vMarcaPasso[idx].index(maxValue)]\n",
    "\t\n",
    "\tax.plot(kDePico, maxValue, 'yo')\n",
    "\tvaloresDePico[Cargas[idx]] = (kDePico, maxValue)\n",
    "\n",
    "listK, listV = zip(*valoresDePico.values())\n",
    "\n",
    "ax.plot(listK, listV, 'y', label=\"Valores de Máxima Tensão em V2\")\n",
    "\n",
    "fig.legend(loc='center right')\n",
    "\n",
    "plt.title(\"Tensão no Marcapasso x Coeficiente de Acoplamento\")\n",
    "plt.xlabel(\"Coeficiente de Acoplamento (k)\")\n",
    "plt.ylabel(\"Tensão no Marcapasso (V)\")\n",
    "plt.show()\n",
    "\n",
    "carga = 14\n",
    "idxCarga = Cargas.index(carga)\n",
    "\n",
    "k = FatoresDeAcoplamento[vMarcaPasso[idxCarga].index(max(vMarcaPasso[idxCarga]))]\n",
    "idxK = list(FatoresDeAcoplamento).index(k)\n",
    "\n",
    "print(f\"O valor maximo de tensão no Marca-Passo({carga}Ω) é {max(vMarcaPasso[idxCarga]):.4f}V, com k = {k:.4f}\")"
   ]
  },
  {
   "cell_type": "code",
   "execution_count": null,
   "metadata": {
    "metadata": {}
   },
   "outputs": [],
   "source": [
    "fig, ax = plt.subplots(layout='constrained',figsize=(10,5))\n",
    "\n",
    "for i in range(len(Cargas)):\n",
    "    ax.plot(FatoresDeAcoplamento, SFonte[i], label=f\"Carga = {Cargas[i]}Ω\")\n",
    "\n",
    "fig.legend(loc='center right')\n",
    "\n",
    "plt.title(\"Potência Consumida pela Fonte x Coeficiente de Acoplamento\")\n",
    "plt.xlabel(\"Coeficiente de Acoplamento (k)\")\n",
    "plt.ylabel(\"Potência Consumida pela Fonte (W)\")\n",
    "plt.show()\n",
    "\n",
    "print(f\"A potência consumida pela fonte para o Marca-Passo({carga})Ω com k={k:.4f} é {SFonte[idxCarga][idxK]:.4f}W\")"
   ]
  },
  {
   "cell_type": "code",
   "execution_count": null,
   "metadata": {
    "metadata": {}
   },
   "outputs": [],
   "source": [
    "fig, ax = plt.subplots(layout='constrained',figsize=(10,5))\n",
    "\n",
    "for i in range(len(Cargas)):\n",
    "    ax.plot(FatoresDeAcoplamento, SMarcaPasso[i], label=f\"Carga = {Cargas[i]}Ω\")\n",
    "\n",
    "fig.legend(loc='center right')\n",
    "\n",
    "plt.title(\"Potência no Marcapasso x Coeficiente de Acoplamento\")\n",
    "plt.xlabel(\"Coeficiente de Acoplamento (k)\")\n",
    "plt.ylabel(\"Potência no Marcapasso (W)\")\n",
    "plt.show()\n",
    "\n",
    "print(f\"A potência no Marca-Passo({carga})Ω com k={k:.4f} é {SMarcaPasso[idxCarga][idxK]:.4f}W\")"
   ]
  },
  {
   "cell_type": "code",
   "execution_count": null,
   "metadata": {
    "metadata": {}
   },
   "outputs": [],
   "source": [
    "fig, ax = plt.subplots(layout='constrained',figsize=(10,5))\n",
    "\n",
    "for i in range(len(Cargas)):\n",
    "    ax.plot(FatoresDeAcoplamento, FatorDeEficiencia[i], label=f\"Carga = {Cargas[i]}Ω\")\n",
    "\n",
    "fig.legend(loc='center right')\n",
    "\n",
    "plt.title(\"Fator de Eficiência x Coeficiente de Acoplamento\")\n",
    "plt.xlabel(\"Coeficiente de Acoplamento (k)\")\n",
    "plt.ylabel(\"Fator de Eficiência\")\n",
    "plt.show()\n",
    "\n",
    "print(f\"O fator de eficiência para o Marca-Passo({carga})Ω com k={k:.4f} é {FatorDeEficiencia[idxCarga][idxK]*100:.2f}%\")"
   ]
  }
 ],
 "metadata": {
  "kernelspec": {
   "display_name": "Python 3",
   "language": "python",
   "name": "python3"
  },
  "language_info": {
   "codemirror_mode": {
    "name": "ipython",
    "version": 3
   },
   "file_extension": ".py",
   "mimetype": "text/x-python",
   "name": "python",
   "nbconvert_exporter": "python",
   "pygments_lexer": "ipython3",
   "version": "3.12.1"
  },
  "vscode": {
   "interpreter": {
    "hash": "3fcbd7240ee8f908d933dc7f71e8c42a1a91163b70ede8dcff5146d4087436c7"
   }
  }
 },
 "nbformat": 4,
 "nbformat_minor": 2
}
