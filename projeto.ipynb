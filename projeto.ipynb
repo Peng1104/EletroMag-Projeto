{
 "cells": [
  {
   "cell_type": "markdown",
   "metadata": {},
   "source": [
    "Projeto de Eletromagnetismo e Ondulatoria:\n",
    "\n",
    "Membros:\n",
    "\n",
    "- [André Frugis](https://github.com/andrefrugis): andref9@al.insper.edu.br\n",
    "- [Felipe Frug Mauro](https://github.com/FelipeFrug): felipefm5@al.insper.edu.br\n",
    "- [Joao Otavio Palma](https://github.com/joaoopalma): joaoogp@al.insper.edu.br\n",
    "- [Lucas Hix](https://github.com/Peng1104): lucash@al.insper.edu.br"
   ]
  },
  {
   "cell_type": "code",
   "execution_count": null,
   "metadata": {
    "vscode": {
     "languageId": "plaintext"
    }
   },
   "outputs": [],
   "source": [
    "# bibliotecas para o Projeto\n",
    "\n",
    "import numpy as np"
   ]
  }
 ],
 "metadata": {
  "language_info": {
   "name": "python"
  }
 },
 "nbformat": 4,
 "nbformat_minor": 2
}
